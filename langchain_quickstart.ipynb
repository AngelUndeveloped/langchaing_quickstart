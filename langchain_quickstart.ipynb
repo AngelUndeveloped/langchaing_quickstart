{
 "cells": [
  {
   "cell_type": "markdown",
   "id": "2e775f17-b1d7-42d1-9b55-4794ef19d0a3",
   "metadata": {},
   "source": [
    "# Langchain Quickstart"
   ]
  },
  {
   "cell_type": "code",
   "execution_count": null,
   "id": "b654505a-269b-45eb-a63c-222caf7cf4fd",
   "metadata": {},
   "outputs": [],
   "source": [
    "# Langsmith setup\n",
    "LANGCHAIN_TRACING_V2=true\n",
    "LANGCHAIN_ENDPOINT=\"https://api.smith.langchain.com\"\n",
    "LANGCHAIN_API_KEY=\"<your-api-key>\"\n",
    "LANGCHAIN_PROJECT=\"langchain_quickstart\"\n",
    "\n"
   ]
  }
 ],
 "metadata": {
  "kernelspec": {
   "display_name": "Python 3 (ipykernel)",
   "language": "python",
   "name": "python3"
  },
  "language_info": {
   "codemirror_mode": {
    "name": "ipython",
    "version": 3
   },
   "file_extension": ".py",
   "mimetype": "text/x-python",
   "name": "python",
   "nbconvert_exporter": "python",
   "pygments_lexer": "ipython3",
   "version": "3.12.4"
  }
 },
 "nbformat": 4,
 "nbformat_minor": 5
}
